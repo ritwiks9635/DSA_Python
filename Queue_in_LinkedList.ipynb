{
  "cells": [
    {
      "cell_type": "markdown",
      "metadata": {
        "id": "view-in-github",
        "colab_type": "text"
      },
      "source": [
        "<a href=\"https://colab.research.google.com/github/ritwiks9635/DSA_Python/blob/main/Queue_in_LinkedList.ipynb\" target=\"_parent\"><img src=\"https://colab.research.google.com/assets/colab-badge.svg\" alt=\"Open In Colab\"/></a>"
      ]
    },
    {
      "cell_type": "markdown",
      "source": [
        "#**Queue in LinkedList**"
      ],
      "metadata": {
        "id": "qZujhEEg-zpt"
      }
    },
    {
      "cell_type": "markdown",
      "source": [
        "![](https://encrypted-tbn0.gstatic.com/images?q=tbn:ANd9GcR2jgS9ODesw6ToKYfpmmAXQNM9gj_y1DiBdtuXj6SoSFAxW8n4lk_gOMQS&s=10)"
      ],
      "metadata": {
        "id": "4S1VBwOPENbs"
      }
    },
    {
      "cell_type": "markdown",
      "source": [
        "\n",
        "###**What is a queue in data structure?**\n",
        "\n",
        "A queue is linear data structure that consists of a collection is of items that follow a first-in-first-out sequence. This implies that the first item to be inserted will be the first to be removed. You can also say that items are removed in the order they were inserted."
      ],
      "metadata": {
        "id": "B9aO_xCK0m2-"
      }
    },
    {
      "cell_type": "markdown",
      "source": [
        "**Queue is a linear structure in which actions are conducted in a certain order. This article contains the study material notes on the types of queues - linear queue, circular queue, priority queue, dequeue, and their applications.**"
      ],
      "metadata": {
        "id": "gVSXvnT80yqF"
      }
    },
    {
      "cell_type": "markdown",
      "source": [
        "\n",
        "###**Where is queue used?**\n",
        "\n",
        "Queues have numerous applications, including job scheduling, printer spooling, breadth-first search, call centre management, CPU task management, and buffering. Queues are essential tools for efficiently managing and organizing data in a way that ensures tasks are executed in the correct order."
      ],
      "metadata": {
        "id": "4pQdF_HG19Ot"
      }
    },
    {
      "cell_type": "markdown",
      "source": [
        "\n",
        "###**Why is queue used?**\n",
        "Queues are used to manage data flow and handle tasks in various applications, such as operating systems, network protocols, and data processing systems. They are also used to implement algorithms like breadth-first search, which involves exploring nodes in a graph level-by-level."
      ],
      "metadata": {
        "id": "R1Q_jT4U2YF2"
      }
    },
    {
      "cell_type": "markdown",
      "source": [
        "![Enqueue](https://encrypted-tbn0.gstatic.com/images?q=tbn:ANd9GcQQH5PD5YMIUdQb-HYzCzDHU50HxcfKjRDVB5Ili8VeEv2wrqnldIWdS5g&s=10)"
      ],
      "metadata": {
        "id": "JT2H8-a_6Rnq"
      }
    },
    {
      "cell_type": "code",
      "source": [
        "class Node:\n",
        "    def __init__(self, value):\n",
        "        self.data = value\n",
        "        self.next = None"
      ],
      "metadata": {
        "id": "8voA8m3KsCzH"
      },
      "execution_count": null,
      "outputs": []
    },
    {
      "cell_type": "code",
      "source": [
        "class QueueLL:\n",
        "    def __init__(self):\n",
        "        self.front = None\n",
        "        self.rear = None\n",
        "\n",
        "    # Enqueue is Adds an item from the back of the queue.\n",
        "    def enqueue(self, value):\n",
        "        new_node = Node(value)\n",
        "\n",
        "        if self.front == None:\n",
        "            self.front = new_node\n",
        "            self.rear = new_node\n",
        "\n",
        "        else:\n",
        "            self.rear.next = new_node\n",
        "            self.rear = new_node\n",
        "\n",
        "    #Dequeue: Removes an item from the front of the queue.\n",
        "    def dequeue(self):\n",
        "        if self.front == None:\n",
        "            return \"Empty Queue\"\n",
        "        else:\n",
        "            self.front = self.front.next\n",
        "\n",
        "    def is_empty(self):\n",
        "        return (self.front == None)\n",
        "\n",
        "    def front_peek(self):\n",
        "        if (not self.is_empty()):\n",
        "            return self.front.data\n",
        "        else:\n",
        "           return \"Empty Queue\"\n",
        "\n",
        "    def rear_peek(self):\n",
        "        if not self.is_empty():\n",
        "            return self.rear.data\n",
        "\n",
        "        else:\n",
        "          return \"Empty Queue\"\n",
        "\n",
        "\n",
        "    def traverse(self):\n",
        "        temp = self.front\n",
        "        while temp != None:\n",
        "            print(temp.data, end = \" \")\n",
        "            temp = temp.next"
      ],
      "metadata": {
        "id": "pB4Xsn5t3XEb"
      },
      "execution_count": null,
      "outputs": []
    },
    {
      "cell_type": "code",
      "source": [
        "q = QueueLL()\n",
        "q.enqueue(1)\n",
        "q.enqueue(2)\n",
        "q.enqueue(3)\n",
        "q.enqueue(4)"
      ],
      "metadata": {
        "id": "JhqQ0bD-4boW"
      },
      "execution_count": null,
      "outputs": []
    },
    {
      "cell_type": "code",
      "source": [
        "q.front_peek()"
      ],
      "metadata": {
        "colab": {
          "base_uri": "https://localhost:8080/"
        },
        "id": "9PLBlFnif0Eu",
        "outputId": "1828d484-6a33-4963-8e6a-769d166cd9d3"
      },
      "execution_count": null,
      "outputs": [
        {
          "output_type": "execute_result",
          "data": {
            "text/plain": [
              "1"
            ]
          },
          "metadata": {},
          "execution_count": 40
        }
      ]
    },
    {
      "cell_type": "code",
      "source": [
        "q.rear_peek()"
      ],
      "metadata": {
        "colab": {
          "base_uri": "https://localhost:8080/"
        },
        "id": "QnHuyAXFi9O9",
        "outputId": "4ddf24db-2be1-4f4b-c216-98f60c863616"
      },
      "execution_count": null,
      "outputs": [
        {
          "output_type": "execute_result",
          "data": {
            "text/plain": [
              "4"
            ]
          },
          "metadata": {},
          "execution_count": 41
        }
      ]
    },
    {
      "cell_type": "code",
      "source": [
        "q.traverse()"
      ],
      "metadata": {
        "colab": {
          "base_uri": "https://localhost:8080/"
        },
        "id": "gfYKRks2U8Eo",
        "outputId": "d2f60831-8b88-4148-dafd-15af8ea8a4ce"
      },
      "execution_count": null,
      "outputs": [
        {
          "output_type": "stream",
          "name": "stdout",
          "text": [
            "1 2 3 4 "
          ]
        }
      ]
    },
    {
      "cell_type": "code",
      "source": [
        "q.is_empty()"
      ],
      "metadata": {
        "colab": {
          "base_uri": "https://localhost:8080/"
        },
        "id": "XvwcBzF6fFTz",
        "outputId": "f5854e0b-feb4-4eaa-ecc5-2b8e0034e071"
      },
      "execution_count": null,
      "outputs": [
        {
          "output_type": "execute_result",
          "data": {
            "text/plain": [
              "False"
            ]
          },
          "metadata": {},
          "execution_count": 21
        }
      ]
    },
    {
      "cell_type": "code",
      "source": [
        "q.dequeue()"
      ],
      "metadata": {
        "id": "RSFdBOnBVbSJ",
        "colab": {
          "base_uri": "https://localhost:8080/",
          "height": 35
        },
        "outputId": "ad5311fe-58c2-42b7-8e42-05654205f0c3"
      },
      "execution_count": null,
      "outputs": [
        {
          "output_type": "execute_result",
          "data": {
            "text/plain": [
              "'Empty Queue'"
            ],
            "application/vnd.google.colaboratory.intrinsic+json": {
              "type": "string"
            }
          },
          "metadata": {},
          "execution_count": 17
        }
      ]
    },
    {
      "cell_type": "markdown",
      "source": [
        "### **Check Balance Parenthesis using Stack**"
      ],
      "metadata": {
        "id": "L2OFirIXRy6O"
      }
    },
    {
      "cell_type": "code",
      "source": [
        "def check_balanced_parenthesis(s):\n",
        "    stk = Stack()\n",
        "    for item in s:\n",
        "        if item == '(':\n",
        "            stk.push(item)\n",
        "        elif item == '{':\n",
        "            stk.push(item)\n",
        "        elif item == '[':\n",
        "            stk.push(item)\n",
        "        elif item == ')':\n",
        "            if stk.peek() == '(':\n",
        "                stk.pop()\n",
        "            else:\n",
        "                return False\n",
        "        elif item == '}':\n",
        "            if stk.peek() == '{':\n",
        "                stk.pop()\n",
        "            else:\n",
        "                return False\n",
        "        elif item == ']':\n",
        "            if stk.peek() == '[':\n",
        "                stk.pop()\n",
        "            else:\n",
        "                return False\n",
        "        else:\n",
        "            continue\n",
        "\n",
        "    return stk.is_empty()\n",
        "\n",
        "s=\"{[(a+b) + (c+d)]}\"\n",
        "print(check_balanced_parenthesis(s))"
      ],
      "metadata": {
        "id": "126JRohERxsQ"
      },
      "execution_count": null,
      "outputs": []
    }
  ],
  "metadata": {
    "colab": {
      "provenance": [],
      "authorship_tag": "ABX9TyMoId7G/BJ1dAz2Wh7H/mR3",
      "include_colab_link": true
    },
    "kernelspec": {
      "display_name": "Python 3",
      "name": "python3"
    },
    "language_info": {
      "name": "python"
    }
  },
  "nbformat": 4,
  "nbformat_minor": 0
}