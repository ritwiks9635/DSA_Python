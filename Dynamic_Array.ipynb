{
  "cells": [
    {
      "cell_type": "markdown",
      "metadata": {
        "id": "view-in-github",
        "colab_type": "text"
      },
      "source": [
        "<a href=\"https://colab.research.google.com/github/ritwiks9635/DSA_Python/blob/main/Dynamic_Array.ipynb\" target=\"_parent\"><img src=\"https://colab.research.google.com/assets/colab-badge.svg\" alt=\"Open In Colab\"/></a>"
      ]
    },
    {
      "cell_type": "markdown",
      "source": [
        "#**Dynamic Array**"
      ],
      "metadata": {
        "id": "wfENs3zgqhpb"
      }
    },
    {
      "cell_type": "markdown",
      "source": [
        "A dynamic array automatically grows when you try to make an insertion into a fully occupied list. Once all the space is consumed, and an additional element is ready to be added, the underlying fixed-sized array needs to increase in size."
      ],
      "metadata": {
        "id": "xp-KH8Av1Vjs"
      }
    },
    {
      "cell_type": "markdown",
      "source": [
        "**A dynamic array is an array with a big improvement: automatic resizing. One limitation of arrays is that they're fixed size, meaning you need to specify the number of elements your array will hold ahead of time. A dynamic array expands as you add more elements. So you don't need to determine the size ahead of time.**"
      ],
      "metadata": {
        "id": "stuXmeA2aQE2"
      }
    },
    {
      "cell_type": "code",
      "source": [
        "import ctypes"
      ],
      "metadata": {
        "id": "Zx2EMMtpykH5"
      },
      "execution_count": 7,
      "outputs": []
    },
    {
      "cell_type": "code",
      "source": [
        "class ArrayList():\n",
        "    def __init__(self):\n",
        "        self.n = 0  # Count actual elements (Default is 0)\n",
        "\n",
        "        self.size = 1  # Default size\n",
        "\n",
        "        self.A = self.__make_array(self.size) # make_array will be defined later\n",
        "   #Length method\n",
        "    def __len__(self):\n",
        "        return self.n\n",
        "\n",
        "    def append(self, item):\n",
        "        # if element and size are same\n",
        "        if self.n == self.size:\n",
        "        # if array is full so resize\n",
        "            self.__resize(self.size * 2)\n",
        "        self.A[self.n] = item\n",
        "        self.n += 1\n",
        "\n",
        "    # Delete last item or pop\n",
        "    def pop(self):\n",
        "        if self.n == 0:\n",
        "            return \"Empty list!\"\n",
        "        print(self.A[self.n - 1])\n",
        "        self.n = self.n - 1\n",
        "\n",
        "    # Total Clear\n",
        "    def clear(self):\n",
        "        self.n = 0\n",
        "        self.size = 1\n",
        "\n",
        "    # find as item\n",
        "    def find(self, item):\n",
        "        for i in range(self.n):\n",
        "            if self.A[i] == item:\n",
        "                return i\n",
        "        return \"Value Error! item not found\"\n",
        "\n",
        "    # Insert the value given position\n",
        "    def insert(self, posi, item):\n",
        "        if self.n == self.size:\n",
        "            return self.__resize(self.size * 2)\n",
        "        for i in range(self.n, posi, -1):\n",
        "            self.A[i] = self.A[i - 1]\n",
        "\n",
        "        self.A[posi] = item\n",
        "        self.n = self.n + 1\n",
        "\n",
        "    #delete the item\n",
        "    def remove(self, item):\n",
        "        posi = self.find(item)\n",
        "        if type(posi) == int:\n",
        "            self.__delitem__(posi)\n",
        "        else:\n",
        "            return posi\n",
        "\n",
        "    # show array\n",
        "    def __str__(self):\n",
        "        result = \"\"\n",
        "        for i in range(self.n):\n",
        "            result = result + str(self.A[i]) + \",\"\n",
        "        result =  result[:-1]\n",
        "        return \"[\" + result + \"]\"\n",
        "\n",
        "    # get item based on index\n",
        "    def __getitem__(self, index):\n",
        "        if 0 <= index < self.n:\n",
        "            return self.A[index]\n",
        "        else:\n",
        "            return \"item not found\"\n",
        "\n",
        "    # Delete item base on position\n",
        "    def __delitem__(self, posi):\n",
        "        if 0<= posi < self.n:\n",
        "            for i in range(posi, self.n - 1):\n",
        "                self.A[i] = self.A[i + 1]\n",
        "            self.n = self.n - 1\n",
        "\n",
        "        else:\n",
        "            return \"OutofRange\"\n",
        "\n",
        "    def __resize(self, new_size):\n",
        "    # create a new array with new capacity\n",
        "        A2 = self.__make_array(new_size)\n",
        "        self.size = new_size\n",
        "    # Copy all elements old array to new array\n",
        "        for i in range(self.n):\n",
        "            A2[i] = self.A[i]\n",
        "        # Delete the previous array\n",
        "        self.A = A2\n",
        "\n",
        "    def __make_array(self, size):\n",
        "    # referential array(C type)\n",
        "        return (size * ctypes.py_object)()"
      ],
      "metadata": {
        "id": "S-H8LafHqhNh"
      },
      "execution_count": 49,
      "outputs": []
    },
    {
      "cell_type": "code",
      "source": [
        "al = ArrayList()\n",
        "\n",
        "al.append(1)\n",
        "al.append(2)\n",
        "al.append(3)\n",
        "al.append(4)\n",
        "\n",
        "print(al)"
      ],
      "metadata": {
        "colab": {
          "base_uri": "https://localhost:8080/"
        },
        "id": "L5SBD4ba5srK",
        "outputId": "f9fd34b4-50ec-4a8f-f4bd-692e95129f21"
      },
      "execution_count": 50,
      "outputs": [
        {
          "output_type": "stream",
          "name": "stdout",
          "text": [
            "[1,2,3,4]\n"
          ]
        }
      ]
    },
    {
      "cell_type": "code",
      "source": [
        "al[2]"
      ],
      "metadata": {
        "colab": {
          "base_uri": "https://localhost:8080/"
        },
        "id": "BLW5NWmiYW38",
        "outputId": "918dd309-9233-48ad-b359-e24b4ce0ba5b"
      },
      "execution_count": 52,
      "outputs": [
        {
          "output_type": "execute_result",
          "data": {
            "text/plain": [
              "3"
            ]
          },
          "metadata": {},
          "execution_count": 52
        }
      ]
    },
    {
      "cell_type": "code",
      "source": [
        "al.remove(20)\n",
        "#print(al)"
      ],
      "metadata": {
        "colab": {
          "base_uri": "https://localhost:8080/",
          "height": 35
        },
        "id": "i8M6uo3cWG9w",
        "outputId": "68c05f9e-fb4f-4ca7-bbff-5d4aefdbab45"
      },
      "execution_count": 45,
      "outputs": [
        {
          "output_type": "execute_result",
          "data": {
            "text/plain": [
              "'Value Error! item not found'"
            ],
            "application/vnd.google.colaboratory.intrinsic+json": {
              "type": "string"
            }
          },
          "metadata": {},
          "execution_count": 45
        }
      ]
    },
    {
      "cell_type": "code",
      "source": [
        "al.__delitem__(1)\n",
        "print(al)"
      ],
      "metadata": {
        "colab": {
          "base_uri": "https://localhost:8080/"
        },
        "id": "fAwgiPgpRGgH",
        "outputId": "81a692da-7f36-4e50-fa32-11b47a23024c"
      },
      "execution_count": 39,
      "outputs": [
        {
          "output_type": "stream",
          "name": "stdout",
          "text": [
            "[1,3]\n"
          ]
        }
      ]
    },
    {
      "cell_type": "code",
      "source": [
        "al.insert(2, 4)\n",
        "print(al)"
      ],
      "metadata": {
        "colab": {
          "base_uri": "https://localhost:8080/"
        },
        "id": "6pIHJjReRuWa",
        "outputId": "c6c05a2c-9534-4e28-80d9-b2428e3ef09d"
      },
      "execution_count": null,
      "outputs": [
        {
          "output_type": "stream",
          "name": "stdout",
          "text": [
            "[1,2,4,3,4]\n"
          ]
        }
      ]
    },
    {
      "cell_type": "code",
      "source": [
        "al.find(30)"
      ],
      "metadata": {
        "colab": {
          "base_uri": "https://localhost:8080/",
          "height": 35
        },
        "id": "90lp-GniLbBL",
        "outputId": "3e9cb8a5-f4f8-4021-8afd-3f96d06b8f86"
      },
      "execution_count": null,
      "outputs": [
        {
          "output_type": "execute_result",
          "data": {
            "text/plain": [
              "'Value Error! item not found'"
            ],
            "application/vnd.google.colaboratory.intrinsic+json": {
              "type": "string"
            }
          },
          "metadata": {},
          "execution_count": 4
        }
      ]
    },
    {
      "cell_type": "code",
      "source": [
        "al.del("
      ],
      "metadata": {
        "colab": {
          "base_uri": "https://localhost:8080/"
        },
        "id": "oyPkVSiNGLoP",
        "outputId": "fecb135f-8ebe-402c-b827-d4493a3162ff"
      },
      "execution_count": null,
      "outputs": [
        {
          "output_type": "stream",
          "name": "stdout",
          "text": [
            "4\n"
          ]
        }
      ]
    },
    {
      "cell_type": "code",
      "source": [
        "al.clear()"
      ],
      "metadata": {
        "id": "zVcAqOSkJeYd"
      },
      "execution_count": null,
      "outputs": []
    },
    {
      "cell_type": "code",
      "source": [
        "print(al)"
      ],
      "metadata": {
        "colab": {
          "base_uri": "https://localhost:8080/"
        },
        "id": "lARyYlwNJC_7",
        "outputId": "ca892e3f-8fec-457a-be4e-1b73dd4d1470"
      },
      "execution_count": null,
      "outputs": [
        {
          "output_type": "stream",
          "name": "stdout",
          "text": [
            "[]\n"
          ]
        }
      ]
    }
  ],
  "metadata": {
    "colab": {
      "provenance": [],
      "authorship_tag": "ABX9TyPt7g/IQxXaVUnQsnGSSXL9",
      "include_colab_link": true
    },
    "kernelspec": {
      "display_name": "Python 3",
      "name": "python3"
    },
    "language_info": {
      "name": "python"
    }
  },
  "nbformat": 4,
  "nbformat_minor": 0
}