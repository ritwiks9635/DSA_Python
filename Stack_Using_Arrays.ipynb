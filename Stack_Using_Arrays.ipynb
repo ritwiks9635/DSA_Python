{
  "cells": [
    {
      "cell_type": "markdown",
      "metadata": {
        "id": "view-in-github",
        "colab_type": "text"
      },
      "source": [
        "<a href=\"https://colab.research.google.com/github/ritwiks9635/DSA_Python/blob/main/Stack_Using_Arrays.ipynb\" target=\"_parent\"><img src=\"https://colab.research.google.com/assets/colab-badge.svg\" alt=\"Open In Colab\"/></a>"
      ]
    },
    {
      "cell_type": "markdown",
      "source": [
        "#**Stack Using Array**"
      ],
      "metadata": {
        "id": "qZujhEEg-zpt"
      }
    },
    {
      "cell_type": "code",
      "source": [
        "L = [1, 2, 3, 4, 5, 6]\n",
        "\n",
        "\n",
        "L[-1:0]"
      ],
      "metadata": {
        "colab": {
          "base_uri": "https://localhost:8080/"
        },
        "id": "Y8TnbJkz_MqQ",
        "outputId": "16c64d69-7802-49a9-feb1-97e6239eacf7"
      },
      "execution_count": null,
      "outputs": [
        {
          "output_type": "execute_result",
          "data": {
            "text/plain": [
              "[]"
            ]
          },
          "metadata": {},
          "execution_count": 3
        }
      ]
    },
    {
      "cell_type": "code",
      "source": [
        "class StackArray:\n",
        "    def __init__(self, size):\n",
        "        self.size = size\n",
        "        self.stack = [None] * self.size\n",
        "        self.top = -1\n",
        "\n",
        "\n",
        "    def push(self, value):\n",
        "        if self.top == self.size - 1:\n",
        "            return \"OverFlow\"\n",
        "\n",
        "        else:\n",
        "            self.top += 1\n",
        "            self.stack[self.top] = value\n",
        "\n",
        "    def pop(self):\n",
        "        if self.top == -1:\n",
        "            return \"Empty Stack\"\n",
        "\n",
        "        else:\n",
        "             data = self.stack[self.top]\n",
        "             self.top -= 1\n",
        "             return data\n",
        "\n",
        "\n",
        "    def traverse(self):\n",
        "        for i in range(self.top + 1):\n",
        "            print(self.stack[i], end = \" \")"
      ],
      "metadata": {
        "id": "lwcD9qv1EhZd"
      },
      "execution_count": null,
      "outputs": []
    },
    {
      "cell_type": "code",
      "source": [
        "s = StackArray(4)\n",
        "s.push(1)\n",
        "s.push(2)\n",
        "s.push(3)\n",
        "s.push(4)\n",
        "\n",
        "\n",
        "s.traverse()\n",
        "#print(s.stack)"
      ],
      "metadata": {
        "colab": {
          "base_uri": "https://localhost:8080/"
        },
        "id": "EyjHFZguMaCM",
        "outputId": "9ced9070-0080-466a-bc13-e9cf5cbcd951"
      },
      "execution_count": null,
      "outputs": [
        {
          "output_type": "stream",
          "name": "stdout",
          "text": [
            "1 2 3 4 "
          ]
        }
      ]
    },
    {
      "cell_type": "code",
      "source": [
        "s.pop()"
      ],
      "metadata": {
        "colab": {
          "base_uri": "https://localhost:8080/",
          "height": 35
        },
        "id": "FpnZoSQPBKw6",
        "outputId": "b62c1c7c-8d10-4f25-a220-7118834c1991"
      },
      "execution_count": null,
      "outputs": [
        {
          "output_type": "execute_result",
          "data": {
            "text/plain": [
              "'Empty Stack'"
            ],
            "application/vnd.google.colaboratory.intrinsic+json": {
              "type": "string"
            }
          },
          "metadata": {},
          "execution_count": 16
        }
      ]
    },
    {
      "cell_type": "code",
      "source": [
        "s.traverse()"
      ],
      "metadata": {
        "id": "PPi1icS1BRwW"
      },
      "execution_count": null,
      "outputs": []
    }
  ],
  "metadata": {
    "colab": {
      "provenance": [],
      "authorship_tag": "ABX9TyOItWnDXBN4fEVfowJ63Fxq",
      "include_colab_link": true
    },
    "kernelspec": {
      "display_name": "Python 3",
      "name": "python3"
    },
    "language_info": {
      "name": "python"
    }
  },
  "nbformat": 4,
  "nbformat_minor": 0
}