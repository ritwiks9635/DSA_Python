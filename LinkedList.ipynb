{
  "cells": [
    {
      "cell_type": "markdown",
      "metadata": {
        "id": "view-in-github",
        "colab_type": "text"
      },
      "source": [
        "<a href=\"https://colab.research.google.com/github/ritwiks9635/DSA_Python/blob/main/LinkedList.ipynb\" target=\"_parent\"><img src=\"https://colab.research.google.com/assets/colab-badge.svg\" alt=\"Open In Colab\"/></a>"
      ]
    },
    {
      "cell_type": "markdown",
      "source": [
        "#**LinkedList**\n",
        "\n",
        "\n",
        "*A linked list is a data structure that stores a sequence of elements. Each element in the list is called a node, and each node has a reference to the next node in the list. The first node in the list is called the head, and the last node in the list is called the tail.*"
      ],
      "metadata": {
        "id": "T4JCNQH74tac"
      }
    },
    {
      "cell_type": "code",
      "source": [
        "# 1st create Node\n",
        "\n",
        "class Node:\n",
        "    def __init__(self, value):\n",
        "        self.data = value\n",
        "        self.next = None"
      ],
      "metadata": {
        "id": "m4DIdIoWdkyh"
      },
      "execution_count": 2,
      "outputs": []
    },
    {
      "cell_type": "code",
      "source": [
        "#test the Node\n",
        "a = Node(1)\n",
        "b = Node(2)\n",
        "c = Node(3)\n",
        "\n",
        "a.next = b\n",
        "b.next = c\n",
        "print(c.next)\n",
        "print(b.next)\n",
        "print(int(0x79e5936a16f0))"
      ],
      "metadata": {
        "colab": {
          "base_uri": "https://localhost:8080/"
        },
        "id": "ryhX873D9i4h",
        "outputId": "89b6d6a9-5a90-4145-905e-eb785f7edbb7"
      },
      "execution_count": null,
      "outputs": [
        {
          "output_type": "stream",
          "name": "stdout",
          "text": [
            "None\n",
            "<__main__.Node object at 0x78a052441b40>\n",
            "134026927675120\n"
          ]
        }
      ]
    },
    {
      "cell_type": "code",
      "source": [
        "# Create LinkedList\n",
        "\n",
        "class LinkedList:\n",
        "    def __init__(self):\n",
        "# empty LinkedList\n",
        "        self.head = None\n",
        "# No of node in LL\n",
        "        self.c = 0\n",
        "    def __len__(self):\n",
        "        return self.c\n",
        "\n",
        "    # Insert in head\n",
        "    def insert_head(self, value):\n",
        "        # new node\n",
        "        new_node = Node(value)\n",
        "        # Create connection\n",
        "        new_node.next = self.head\n",
        "        # reassign head\n",
        "        self.head = new_node\n",
        "        # increment c\n",
        "        self.c = self.c + 1\n",
        "\n",
        "    #print\n",
        "    def __str__(self):\n",
        "        curr = self.head\n",
        "        result = ''\n",
        "        while curr != None:\n",
        "            result = result + str(curr.data) + '->'\n",
        "            curr = curr.next\n",
        "        return result[:-2]\n",
        "\n",
        "    #Insert in tail or append\n",
        "    def append(self, value):\n",
        "\n",
        "        new_node = Node(value)\n",
        "        #if empty\n",
        "        if self.head == None:\n",
        "            self.head = new_node\n",
        "            self.c = self.c + 1\n",
        "            return\n",
        "        curr = self.head\n",
        "        while curr.next != None:\n",
        "            curr = curr.next\n",
        "        #at last Node\n",
        "        curr.next = new_node\n",
        "        self.c = self.c + 1\n",
        "\n",
        "    # insert after\n",
        "    def insert_after(self, after, value):\n",
        "        new_node = Node(value)\n",
        "        curr = self.head\n",
        "        while curr != None:\n",
        "            if curr.data == after:\n",
        "                break\n",
        "            curr = curr.next\n",
        "        # if found the after value\n",
        "        if curr != None:\n",
        "            new_node.next = curr.next\n",
        "            curr.next = new_node\n",
        "            self.c = self.c + 1\n",
        "        else:\n",
        "            return \"Item Not Found\"\n",
        "\n",
        "    # clear the node\n",
        "    def clear(self):\n",
        "        self.head = None\n",
        "        self.c = 0\n",
        "\n",
        "    #delete head\n",
        "    def delete_head(self):\n",
        "        if self.head == None:\n",
        "            return \"Empty LinkedList\"\n",
        "\n",
        "        self.head = self.head.next\n",
        "        self.c = self.c - 1\n",
        "\n",
        "    # Delete last node or Pop\n",
        "    def pop(self):\n",
        "        if self.head == None:\n",
        "            return \"Empty LinkedList\"\n",
        "\n",
        "        curr = self.head\n",
        "        #if one value available so its head\n",
        "        if curr.next == None:\n",
        "            return self.delete_head()\n",
        "\n",
        "\n",
        "        while curr.next.next != None:\n",
        "            curr = curr.next\n",
        "        curr.next = None\n",
        "        self.c = self.c - 1\n",
        "\n",
        "    # Delete the node using value\n",
        "    def remove(self, value):\n",
        "        if self.head == None:\n",
        "            return \"Empty LinkedList\"\n",
        "\n",
        "        # if head value and call value is same\n",
        "        if self.head.data == value:\n",
        "            return self.delete_head()\n",
        "\n",
        "        curr = self.head\n",
        "        while curr.next != None:\n",
        "            if curr.next.data == value:\n",
        "                break\n",
        "            curr = curr.next\n",
        "        # if not found the value\n",
        "        if curr.next == None:\n",
        "            return \"Item Not Found!\"\n",
        "\n",
        "        else :\n",
        "            curr.next = curr.next.next\n",
        "            self.c = self.c-1\n",
        "\n",
        "    # search value\n",
        "    def search(self, item):\n",
        "        curr = self.head\n",
        "        ind = 0\n",
        "        while curr != None:\n",
        "            if curr.data == item:\n",
        "                return ind\n",
        "            curr = curr.next\n",
        "            ind = ind + 1\n",
        "        return \"Not Found!\"\n",
        "\n",
        "\n",
        "    # search value use index\n",
        "\n",
        "    def __getitem__(self, index):\n",
        "        curr = self.head\n",
        "        idx = 0\n",
        "        while curr != None:\n",
        "            if idx == index:\n",
        "                return curr.data\n",
        "            curr = curr.next\n",
        "            idx = idx + 1\n",
        "        return \"Not Found!\""
      ],
      "metadata": {
        "id": "ua7mZXI4C2PT"
      },
      "execution_count": 45,
      "outputs": []
    },
    {
      "cell_type": "code",
      "source": [
        "ll = LinkedList()\n",
        "ll.append(1)\n",
        "ll.append(2)\n",
        "ll.append(3)\n",
        "ll.append(4)\n",
        "ll.append(5)\n",
        "print(ll)"
      ],
      "metadata": {
        "colab": {
          "base_uri": "https://localhost:8080/"
        },
        "id": "CrtPNUsk74Ik",
        "outputId": "3775d857-bbb8-455f-e6ed-f9ea947384f2"
      },
      "execution_count": 46,
      "outputs": [
        {
          "output_type": "stream",
          "name": "stdout",
          "text": [
            "1->2->3->4->5\n"
          ]
        }
      ]
    },
    {
      "cell_type": "code",
      "source": [
        "ll[4]"
      ],
      "metadata": {
        "colab": {
          "base_uri": "https://localhost:8080/"
        },
        "id": "vKzcTq0Qwqme",
        "outputId": "4981ef22-dde9-4973-ac31-d68db7275175"
      },
      "execution_count": 48,
      "outputs": [
        {
          "output_type": "execute_result",
          "data": {
            "text/plain": [
              "5"
            ]
          },
          "metadata": {},
          "execution_count": 48
        }
      ]
    },
    {
      "cell_type": "code",
      "source": [
        "ll.search(2)"
      ],
      "metadata": {
        "id": "gss83kTydXdR",
        "colab": {
          "base_uri": "https://localhost:8080/"
        },
        "outputId": "08e2b0b6-c5ae-498f-fdb8-6aad79606dfb"
      },
      "execution_count": 38,
      "outputs": [
        {
          "output_type": "execute_result",
          "data": {
            "text/plain": [
              "1"
            ]
          },
          "metadata": {},
          "execution_count": 38
        }
      ]
    },
    {
      "cell_type": "code",
      "source": [
        "ll.pop()"
      ],
      "metadata": {
        "id": "nsIgGD4Ti5pJ",
        "colab": {
          "base_uri": "https://localhost:8080/",
          "height": 35
        },
        "outputId": "86401cef-8ff6-4e5e-c2c4-201cbb3918d4"
      },
      "execution_count": null,
      "outputs": [
        {
          "output_type": "execute_result",
          "data": {
            "text/plain": [
              "'Empty LinkedList'"
            ],
            "application/vnd.google.colaboratory.intrinsic+json": {
              "type": "string"
            }
          },
          "metadata": {},
          "execution_count": 33
        }
      ]
    },
    {
      "cell_type": "code",
      "source": [
        "print(ll)"
      ],
      "metadata": {
        "colab": {
          "base_uri": "https://localhost:8080/"
        },
        "id": "lnoDITf5EduM",
        "outputId": "d5da4fa2-6edb-45a9-94a8-05115b4bb85e"
      },
      "execution_count": null,
      "outputs": [
        {
          "output_type": "stream",
          "name": "stdout",
          "text": [
            "\n"
          ]
        }
      ]
    },
    {
      "cell_type": "code",
      "source": [
        "ll.delete_head()"
      ],
      "metadata": {
        "id": "-Nu_lZnHEFkn"
      },
      "execution_count": null,
      "outputs": []
    },
    {
      "cell_type": "code",
      "source": [
        "ll.clear()"
      ],
      "metadata": {
        "id": "xtgX_L-2e72q"
      },
      "execution_count": null,
      "outputs": []
    },
    {
      "cell_type": "code",
      "source": [
        "ll = LinkedList()\n",
        "ll.insert_head(1)\n",
        "ll.insert_head(2)\n",
        "ll.insert_head(3)\n",
        "\n",
        "print(ll.c)"
      ],
      "metadata": {
        "colab": {
          "base_uri": "https://localhost:8080/"
        },
        "id": "kht3Sgizn1AT",
        "outputId": "d964fe48-6d75-40e8-98c8-a62fdd77509c"
      },
      "execution_count": null,
      "outputs": [
        {
          "output_type": "stream",
          "name": "stdout",
          "text": [
            "3\n"
          ]
        }
      ]
    }
  ],
  "metadata": {
    "colab": {
      "provenance": [],
      "authorship_tag": "ABX9TyMIUDZVtDcLkhqnllInXgwu",
      "include_colab_link": true
    },
    "kernelspec": {
      "display_name": "Python 3",
      "name": "python3"
    },
    "language_info": {
      "name": "python"
    }
  },
  "nbformat": 4,
  "nbformat_minor": 0
}