{
  "cells": [
    {
      "cell_type": "markdown",
      "metadata": {
        "id": "view-in-github",
        "colab_type": "text"
      },
      "source": [
        "<a href=\"https://colab.research.google.com/github/ritwiks9635/DSA_Python/blob/main/Stack_Using_LinkedList.ipynb\" target=\"_parent\"><img src=\"https://colab.research.google.com/assets/colab-badge.svg\" alt=\"Open In Colab\"/></a>"
      ]
    },
    {
      "cell_type": "markdown",
      "source": [
        "#**Stack Using LinkedList**"
      ],
      "metadata": {
        "id": "wfENs3zgqhpb"
      }
    },
    {
      "cell_type": "markdown",
      "source": [
        "\n",
        "##**What is a stack in data structure?**\n",
        "A Stack is a linear data structure that holds a linear, ordered sequence of elements. It is an abstract data type. A Stack works on the LIFO process (Last In First Out), i.e., the element that was inserted last will be removed first."
      ],
      "metadata": {
        "id": "Su34DjeVeb0H"
      }
    },
    {
      "cell_type": "markdown",
      "source": [
        "##**Why Stack Use**\n",
        "\n",
        "Stack is essential in algorithm development for sorting, searching, problem-solving, managing function calls, enabling 'undo' operation, and operand handling in postfix notation. It's also used in recursive algorithms, backtracking procedures, and in computing problems like factorials."
      ],
      "metadata": {
        "id": "krp25EeWe06M"
      }
    },
    {
      "cell_type": "code",
      "source": [
        "class Node:\n",
        "    def __init__(self, value):\n",
        "        self.data = value\n",
        "        self.next = None"
      ],
      "metadata": {
        "id": "M3Xdi9UKebZL"
      },
      "execution_count": null,
      "outputs": []
    },
    {
      "cell_type": "code",
      "source": [
        "class StackLL:\n",
        "\n",
        "    def __init__(self):\n",
        "        self.top = None\n",
        "\n",
        "    # push the value\n",
        "    def push(self, value):\n",
        "        new_node = Node(value)\n",
        "        new_node.next = self.top\n",
        "        self.top = new_node\n",
        "\n",
        "    # remove using pop\n",
        "    def pop(self):\n",
        "        if self.top == None:\n",
        "            return \"Stack is Empty!\"\n",
        "        else:\n",
        "            data = self.top.data\n",
        "            self.top = self.top.next\n",
        "            return data\n",
        "\n",
        "    # check is Empty or not\n",
        "    def is_empty(self):\n",
        "        return self.top == None\n",
        "\n",
        "    # peek top value\n",
        "    def peek(self):\n",
        "        if self.top == None:\n",
        "            return \"Stack is Empty!\"\n",
        "        return self.top.data\n",
        "\n",
        "    # traverse print all elements top to bottom\n",
        "    def traverse(self):\n",
        "        top = self.top\n",
        "        while top is not None:\n",
        "            print(top.data, end = \" \")\n",
        "            top = top.next\n",
        "    # stack size\n",
        "    def size(self):\n",
        "        top = self.top\n",
        "        count = 0\n",
        "        while top is not None:\n",
        "            top = top.next\n",
        "            count += 1\n",
        "        return count\n",
        "\n",
        "    def __str__(self):\n",
        "        curr = self.top\n",
        "        result = \"\"\n",
        "        while curr != None:\n",
        "            result = result + str(curr.data) + \"->\"\n",
        "            curr = curr.next\n",
        "        return result[:-2]"
      ],
      "metadata": {
        "id": "DPcOnN-DeD9W"
      },
      "execution_count": null,
      "outputs": []
    },
    {
      "cell_type": "code",
      "source": [
        "stack = StackLL()\n",
        "\n",
        "stack.push(1)\n",
        "stack.push(2)\n",
        "stack.push(3)\n",
        "stack.push(4)\n",
        "\n",
        "print(stack)"
      ],
      "metadata": {
        "colab": {
          "base_uri": "https://localhost:8080/"
        },
        "id": "VTuS9wLHhOMY",
        "outputId": "a19050d0-ff83-4ff9-a9db-930a9b4ad7c3"
      },
      "execution_count": null,
      "outputs": [
        {
          "output_type": "stream",
          "name": "stdout",
          "text": [
            "4->3->2->1\n"
          ]
        }
      ]
    },
    {
      "cell_type": "code",
      "source": [
        "stack.size()"
      ],
      "metadata": {
        "colab": {
          "base_uri": "https://localhost:8080/"
        },
        "id": "pvL5cCwrnhGk",
        "outputId": "ba1ad617-519a-40c2-816e-34c291a41fd3"
      },
      "execution_count": null,
      "outputs": [
        {
          "output_type": "execute_result",
          "data": {
            "text/plain": [
              "4"
            ]
          },
          "metadata": {},
          "execution_count": 9
        }
      ]
    },
    {
      "cell_type": "code",
      "source": [
        "stack.traverse()"
      ],
      "metadata": {
        "colab": {
          "base_uri": "https://localhost:8080/"
        },
        "id": "Eb1PMoBim46Y",
        "outputId": "d38ee430-808e-4aeb-b4ff-adce1c9d292a"
      },
      "execution_count": null,
      "outputs": [
        {
          "output_type": "stream",
          "name": "stdout",
          "text": [
            "4 3 2 1 "
          ]
        }
      ]
    },
    {
      "cell_type": "code",
      "source": [
        "stack.peek()"
      ],
      "metadata": {
        "colab": {
          "base_uri": "https://localhost:8080/",
          "height": 35
        },
        "id": "ymuUpGZyqFRw",
        "outputId": "5b76d0b5-b589-4340-bd40-21ae66f5ea00"
      },
      "execution_count": null,
      "outputs": [
        {
          "output_type": "execute_result",
          "data": {
            "text/plain": [
              "'Stack is Empty!'"
            ],
            "application/vnd.google.colaboratory.intrinsic+json": {
              "type": "string"
            }
          },
          "metadata": {},
          "execution_count": 46
        }
      ]
    },
    {
      "cell_type": "code",
      "source": [
        "stack.is_empty()"
      ],
      "metadata": {
        "colab": {
          "base_uri": "https://localhost:8080/"
        },
        "id": "C99huxEukR4C",
        "outputId": "06e07db5-cc63-4794-d5ce-d9de97e84b36"
      },
      "execution_count": null,
      "outputs": [
        {
          "output_type": "execute_result",
          "data": {
            "text/plain": [
              "True"
            ]
          },
          "metadata": {},
          "execution_count": 34
        }
      ]
    },
    {
      "cell_type": "code",
      "source": [
        "stack.pop()"
      ],
      "metadata": {
        "colab": {
          "base_uri": "https://localhost:8080/"
        },
        "id": "cW2hLFRTjglg",
        "outputId": "63b80cff-344a-4994-be33-638925d034f9"
      },
      "execution_count": null,
      "outputs": [
        {
          "output_type": "execute_result",
          "data": {
            "text/plain": [
              "1"
            ]
          },
          "metadata": {},
          "execution_count": 45
        }
      ]
    },
    {
      "cell_type": "code",
      "source": [
        "print(stack)"
      ],
      "metadata": {
        "colab": {
          "base_uri": "https://localhost:8080/"
        },
        "id": "Yf_fqzjIjnME",
        "outputId": "2f72a703-da7a-4c90-b56a-91667c575eda"
      },
      "execution_count": null,
      "outputs": [
        {
          "output_type": "stream",
          "name": "stdout",
          "text": [
            "\n"
          ]
        }
      ]
    },
    {
      "cell_type": "code",
      "source": [
        "# Reverse String hello -> olleh\n",
        "def reverse_str(String):\n",
        "    s = StackLL()\n",
        "\n",
        "    for i in String:\n",
        "        s.push(i)\n",
        "\n",
        "    result = \"\"\n",
        "    while not (s.is_empty()):\n",
        "        result = result + s.pop()\n",
        "\n",
        "\n",
        "    return result"
      ],
      "metadata": {
        "id": "CfmWGszkqCXt"
      },
      "execution_count": null,
      "outputs": []
    },
    {
      "cell_type": "code",
      "source": [
        "r = reverse_str(\"Ritwik Sarkar\")\n",
        "print(r)"
      ],
      "metadata": {
        "colab": {
          "base_uri": "https://localhost:8080/"
        },
        "id": "OnRCwuy5rcbn",
        "outputId": "d5ec13e2-c7a4-46e4-8790-5e63207f210d"
      },
      "execution_count": null,
      "outputs": [
        {
          "output_type": "stream",
          "name": "stdout",
          "text": [
            "rakraS kiwtiR\n"
          ]
        }
      ]
    },
    {
      "cell_type": "code",
      "source": [
        "#test editor using stack\n",
        "\n",
        "def text_editor(string, pattern):\n",
        "    u = StackLL()\n",
        "    r = StackLL()\n",
        "\n",
        "    for i in string:\n",
        "        u.push(i)\n",
        "\n",
        "    for i in pattern:\n",
        "        if i == \"u\":\n",
        "            data = u.pop()\n",
        "            r.push(data)\n",
        "        elif i == \"r\":\n",
        "            data = r.pop()\n",
        "            u.push(data)\n",
        "        else:\n",
        "            return \"Not Valid keywords!\"\n",
        "\n",
        "    result = \"\"\n",
        "    while not (u.is_empty()):\n",
        "        result = u.pop() + result\n",
        "    return result"
      ],
      "metadata": {
        "id": "iZM-QcOHuXs8"
      },
      "execution_count": null,
      "outputs": []
    },
    {
      "cell_type": "code",
      "source": [
        "result = text_editor(\"hello\", \"uurruuuur\")\n",
        "print(result)"
      ],
      "metadata": {
        "colab": {
          "base_uri": "https://localhost:8080/"
        },
        "id": "DMyH8rXm3TnT",
        "outputId": "4cda51e1-041d-4b17-a634-30206b888e34"
      },
      "execution_count": null,
      "outputs": [
        {
          "output_type": "stream",
          "name": "stdout",
          "text": [
            "he\n"
          ]
        }
      ]
    },
    {
      "cell_type": "code",
      "source": [
        "# Check starting brackets and closing brackets equal or not\n",
        "\n",
        "def bracket(exam):\n",
        "    s = StackLL()\n",
        "\n",
        "    for i in exam:\n",
        "        if i == \"(\":\n",
        "            s.push(i)\n",
        "\n",
        "        elif i == \")\":\n",
        "            if s.peek() == \"(\":\n",
        "                s.pop()\n",
        "            else:\n",
        "               print(\"Imbalance\")\n",
        "               return\n",
        "\n",
        "    if (s.is_empty()):\n",
        "        print(\"Balance\")\n",
        "    else:\n",
        "        print(\"Imbalance\")"
      ],
      "metadata": {
        "id": "OL5ghy0gMrmT"
      },
      "execution_count": null,
      "outputs": []
    },
    {
      "cell_type": "code",
      "source": [
        "bracket(\"(a+b\")"
      ],
      "metadata": {
        "colab": {
          "base_uri": "https://localhost:8080/"
        },
        "id": "JZ_IBVoanw6h",
        "outputId": "8cf1e0a5-7ed3-4d6c-eaf4-bea21035095a"
      },
      "execution_count": null,
      "outputs": [
        {
          "output_type": "stream",
          "name": "stdout",
          "text": [
            "Imbalance\n"
          ]
        }
      ]
    },
    {
      "cell_type": "markdown",
      "source": [
        "#**Find Celebrity**\n",
        "\n",
        "0 means anyone dont know\n",
        "1 means anyone know\n",
        "\n",
        "Celebrity means everyone know her but he dont know everyone.\n",
        "\n",
        "her D is celebrity."
      ],
      "metadata": {
        "id": "NwK-Gcq4HteF"
      }
    },
    {
      "cell_type": "code",
      "source": [
        "L = [\n",
        "     [0,1,0,1],\n",
        "     [0,0,1,1],\n",
        "     [1,0,0,1],\n",
        "     [0,0,0,0]\n",
        "]"
      ],
      "metadata": {
        "id": "eXzLCmCVwm7Z"
      },
      "execution_count": null,
      "outputs": []
    },
    {
      "cell_type": "code",
      "source": [
        "def find_celeb(L):\n",
        "    s = StackLL()\n",
        "\n",
        "    for i in range(len(L)):\n",
        "        s.push(i)\n",
        "\n",
        "    while s.size() >= 2:\n",
        "        j = s.pop()\n",
        "        l = s.pop()\n",
        "\n",
        "        if L[j][l] == 0:\n",
        "        # l is no celebrity\n",
        "            s.push(j)\n",
        "\n",
        "        else:\n",
        "        # j is not celebrity\n",
        "            s.push(l)\n",
        "\n",
        "    celeb = s.pop()\n",
        "   # print(celeb)\n",
        "\n",
        "    for i in range(len(L)):\n",
        "        if i != celeb:\n",
        "            if L[i][celeb] != 1 or L[celeb][i] != 0:\n",
        "                print(\"Not is celebrity\")\n",
        "                return\n",
        "\n",
        "    print(\"Celebrity is ::\", celeb)"
      ],
      "metadata": {
        "id": "2EEccuMI9TIn"
      },
      "execution_count": null,
      "outputs": []
    },
    {
      "cell_type": "code",
      "source": [
        "find_celeb(L)"
      ],
      "metadata": {
        "colab": {
          "base_uri": "https://localhost:8080/"
        },
        "id": "3bQR_BaV_EXF",
        "outputId": "486dbd66-b441-440c-9d8f-a238ff99f06f"
      },
      "execution_count": null,
      "outputs": [
        {
          "output_type": "stream",
          "name": "stdout",
          "text": [
            "Celebrity is :: 3\n"
          ]
        }
      ]
    },
    {
      "cell_type": "code",
      "source": [
        "a = StackLL()\n",
        "b = StackLL()"
      ],
      "metadata": {
        "id": "nYcMOEqcHqPV"
      },
      "execution_count": null,
      "outputs": []
    },
    {
      "cell_type": "code",
      "source": [
        "def enqueue_stack(value):\n",
        "  a.push(value)\n",
        "\n",
        "def dequeue_stack():\n",
        "\n",
        "  if not b.is_empty():\n",
        "    b.pop()\n",
        "  else:\n",
        "    if a.is_empty():\n",
        "      print(\"Empty queue\")\n",
        "    else:\n",
        "      while(not a.is_empty()):\n",
        "        data = a.pop()\n",
        "        b.push(data)\n",
        "\n",
        "      b.pop()"
      ],
      "metadata": {
        "id": "p7lze5CwJgYN"
      },
      "execution_count": null,
      "outputs": []
    },
    {
      "cell_type": "code",
      "source": [
        "enqueue_stack(1)\n",
        "enqueue_stack(2)\n",
        "enqueue_stack(3)\n",
        "enqueue_stack(4)"
      ],
      "metadata": {
        "id": "G50b-HRsJqAf"
      },
      "execution_count": null,
      "outputs": []
    },
    {
      "cell_type": "code",
      "source": [
        "print(a)"
      ],
      "metadata": {
        "colab": {
          "base_uri": "https://localhost:8080/"
        },
        "id": "pPTndygyJ-Ft",
        "outputId": "8e7f1379-ee80-40b7-ca43-5079d449d22c"
      },
      "execution_count": null,
      "outputs": [
        {
          "output_type": "stream",
          "name": "stdout",
          "text": [
            "4->3->2->1\n"
          ]
        }
      ]
    },
    {
      "cell_type": "code",
      "source": [
        "d = dequeue_stack()"
      ],
      "metadata": {
        "id": "_v5mFH_9KHTo"
      },
      "execution_count": null,
      "outputs": []
    }
  ],
  "metadata": {
    "colab": {
      "provenance": [],
      "authorship_tag": "ABX9TyMNfEBXcjBD68NPxa/5yGDC",
      "include_colab_link": true
    },
    "kernelspec": {
      "display_name": "Python 3",
      "name": "python3"
    },
    "language_info": {
      "name": "python"
    }
  },
  "nbformat": 4,
  "nbformat_minor": 0
}